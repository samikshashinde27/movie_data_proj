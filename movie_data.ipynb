{
 "cells": [
  {
   "cell_type": "code",
   "execution_count": 32,
   "id": "6e66f768",
   "metadata": {},
   "outputs": [],
   "source": [
    "#extracting data from website using webscrapping in python.\n",
    "\n",
    "#requests module-send HTTP request to specified URL and return response object containing html content(str type).\n",
    "\n",
    "#BeautifulSoup module-has power understand HTML language in python enviornment(with BeautifulSoup type).\n",
    "#used to navigate and parse HTML code.\n",
    "\n",
    "#pandas module- converts data into tableau/dataframe format(rows and columns).\n"
   ]
  },
  {
   "cell_type": "code",
   "execution_count": 34,
   "id": "e3ff3714",
   "metadata": {},
   "outputs": [],
   "source": [
    "import requests\n",
    "from bs4 import BeautifulSoup\n",
    "import csv\n",
    "import pandas as pd \n",
    "session = requests.session()\n",
    "session.headers\n",
    "headers={'User-Agent': 'Mozilla/5.0 (Windows NT 6.1; WOW64) AppleWebKit/537.36 (KHTML, like Gecko) Chrome/56.0.2924.76 Safari/537.36'}\n"
   ]
  },
  {
   "cell_type": "code",
   "execution_count": 35,
   "id": "d4dc1533",
   "metadata": {},
   "outputs": [],
   "source": [
    "url_lst=[]\n",
    "base_url='https://www.themoviedb.org/movie?page='\n",
    "for item in range(1,6):#fetch URLS(no. of pages) of website till specified range.\n",
    "    url_lst.append(base_url+str(item))\n",
    "#print(url_lst)"
   ]
  },
  {
   "cell_type": "code",
   "execution_count": 36,
   "id": "fda74902",
   "metadata": {},
   "outputs": [
    {
     "name": "stdout",
     "output_type": "stream",
     "text": [
      "https://www.themoviedb.org/movie?page=1\n",
      "https://www.themoviedb.org/movie?page=2\n",
      "https://www.themoviedb.org/movie?page=3\n",
      "https://www.themoviedb.org/movie?page=4\n",
      "https://www.themoviedb.org/movie?page=5\n"
     ]
    }
   ],
   "source": [
    "for item in url_lst:\n",
    "    print(item)"
   ]
  },
  {
   "cell_type": "code",
   "execution_count": 37,
   "id": "7b5c4799",
   "metadata": {},
   "outputs": [],
   "source": [
    "common_url='https://www.themoviedb.org'\n",
    "all_movie_list=[]\n",
    "for url in url_lst:\n",
    "    #sends a GET request to specified URL and save response from server in response object.\n",
    "    \n",
    "    #create BeautifulSoup object(HTML content-str to BeautifulSoup type, lxml parser- to avoid  data loss if tags remain open).\n",
    "    \n",
    "        #find_all \n",
    "#tags present whose attribute class is \"card style_1\" from soup.\n",
    "\n",
    "    all_url_data=requests.get(url,headers=headers).text\n",
    "    all_soup_data=BeautifulSoup(all_url_data,'lxml')\n",
    "    all_div=all_soup_data.find_all('div',class_='card style_1')\n",
    "    #print(all_div)\n",
    "    \n",
    "    for i in all_div:\n",
    "        product_url=i.find('a')['href']#find url\n",
    "        product_url=common_url+product_url\n",
    "        movie_source=requests.get(product_url,headers=headers).text\n",
    "        soup=BeautifulSoup(movie_source,'lxml')\n",
    "        divs=soup.find_all('div',class_='header_poster_wrapper')\n",
    "        \n",
    "        \n",
    "        for item in divs:\n",
    "            #use exception handaling method\n",
    "            movie_name=item.find('a').text\n",
    "            try:\n",
    "                rating=item.find('div',class_='user_score_chart')['data-percent']\n",
    "            except:\n",
    "                rating='null'\n",
    "                \n",
    "            try:\n",
    "                release_date=item.find('span',class_='release').text.strip()[0:10]#use slicing method\n",
    "            except:\n",
    "                release_date='null'\n",
    "            try:\n",
    "                runtime=item.find('span',class_='runtime').text.strip()#strip all whitespaces.\n",
    "            except:\n",
    "                runtime='null'\n",
    "                \n",
    "                \n",
    "            try:\n",
    "                genre=item.find('span',class_='genres').text.strip().replace('\\xa0','')#strip all whitespaces.\n",
    "            except:\n",
    "                genre='null'\n",
    "            director_li=item.find_all('li',class_='profile')\n",
    "            director='null'\n",
    "            for i in range(0,len(director_li)):\n",
    "                if 'Director' in director_li[i].find('p',class_='character').text:\n",
    "                    director=director_li[i].find('a').text\n",
    "                    #all data export into distionary\n",
    "        all_movie_info={\n",
    "            'Name':movie_name,\n",
    "            'Rating':rating,\n",
    "            'Genre':genre,\n",
    "            'Release date':release_date,\n",
    "            'Runtime':runtime,\n",
    "            'Director':director,\n",
    "            'Url':product_url\n",
    "        }\n",
    "        #all data appen into list\n",
    "        all_movie_list.append(all_movie_info)\n",
    "        "
   ]
  },
  {
   "cell_type": "code",
   "execution_count": 28,
   "id": "d591bfb8",
   "metadata": {},
   "outputs": [],
   "source": [
    "#all_movie_list"
   ]
  },
  {
   "cell_type": "code",
   "execution_count": 38,
   "id": "65b854aa",
   "metadata": {},
   "outputs": [],
   "source": [
    "df=pd.DataFrame(all_movie_list)#converted into dataframe of pandas"
   ]
  },
  {
   "cell_type": "code",
   "execution_count": 39,
   "id": "11a61dac",
   "metadata": {},
   "outputs": [],
   "source": [
    "df.to_excel('allmovie.xlsx')#all data store into excel file"
   ]
  },
  {
   "cell_type": "code",
   "execution_count": 31,
   "id": "2f6df6d0",
   "metadata": {},
   "outputs": [
    {
     "data": {
      "text/plain": [
       "'C:\\\\Users\\\\lenovo\\\\Desktop\\\\project'"
      ]
     },
     "execution_count": 31,
     "metadata": {},
     "output_type": "execute_result"
    }
   ],
   "source": [
    "pwd#path of file"
   ]
  },
  {
   "cell_type": "code",
   "execution_count": 6,
   "id": "ebc55a23",
   "metadata": {},
   "outputs": [],
   "source": []
  },
  {
   "cell_type": "code",
   "execution_count": null,
   "id": "54d00255",
   "metadata": {},
   "outputs": [],
   "source": []
  },
  {
   "cell_type": "code",
   "execution_count": 8,
   "id": "1d608ef6",
   "metadata": {},
   "outputs": [],
   "source": []
  },
  {
   "cell_type": "code",
   "execution_count": 14,
   "id": "52b7c1da",
   "metadata": {},
   "outputs": [],
   "source": []
  },
  {
   "cell_type": "code",
   "execution_count": 9,
   "id": "e052444c",
   "metadata": {},
   "outputs": [],
   "source": []
  },
  {
   "cell_type": "code",
   "execution_count": null,
   "id": "31e1d0cf",
   "metadata": {},
   "outputs": [],
   "source": []
  },
  {
   "cell_type": "code",
   "execution_count": 42,
   "id": "4bbe7801",
   "metadata": {},
   "outputs": [],
   "source": []
  },
  {
   "cell_type": "code",
   "execution_count": 43,
   "id": "ae611337",
   "metadata": {},
   "outputs": [],
   "source": []
  },
  {
   "cell_type": "code",
   "execution_count": null,
   "id": "c240ec2e",
   "metadata": {},
   "outputs": [],
   "source": []
  },
  {
   "cell_type": "code",
   "execution_count": null,
   "id": "5be32243",
   "metadata": {},
   "outputs": [],
   "source": []
  }
 ],
 "metadata": {
  "kernelspec": {
   "display_name": "Python 3 (ipykernel)",
   "language": "python",
   "name": "python3"
  },
  "language_info": {
   "codemirror_mode": {
    "name": "ipython",
    "version": 3
   },
   "file_extension": ".py",
   "mimetype": "text/x-python",
   "name": "python",
   "nbconvert_exporter": "python",
   "pygments_lexer": "ipython3",
   "version": "3.9.13"
  }
 },
 "nbformat": 4,
 "nbformat_minor": 5
}
